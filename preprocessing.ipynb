{
 "cells": [
  {
   "cell_type": "code",
   "execution_count": 12,
   "id": "0928d41a-f8cb-4dfe-9f50-b0938473185a",
   "metadata": {},
   "outputs": [],
   "source": [
    "import pandas as pd\n",
    "import time\n",
    "import json\n"
   ]
  },
  {
   "cell_type": "code",
   "execution_count": null,
   "id": "4b2481f9-0c97-4e02-8bb2-6b4fb0c1bdc1",
   "metadata": {},
   "outputs": [],
   "source": []
  },
  {
   "cell_type": "code",
   "execution_count": null,
   "id": "c3c19865-5b3d-4d98-841a-73656cf53e26",
   "metadata": {},
   "outputs": [],
   "source": []
  },
  {
   "cell_type": "code",
   "execution_count": 23,
   "id": "46eff308-3f74-4e6f-9500-95e46cd47ec2",
   "metadata": {},
   "outputs": [],
   "source": [
    "columns_to_keep = {'asin', 'title', 'also_buy', 'also_view'}"
   ]
  },
  {
   "cell_type": "code",
   "execution_count": 24,
   "id": "10fb61c0-ca37-458e-bc5c-72140af9e127",
   "metadata": {},
   "outputs": [],
   "source": [
    "# Open the input and output files\n",
    "with open('data.json', 'r') as infile, open('preprocessed_data.json', 'w') as outfile:\n",
    "    for line in infile:\n",
    "        # Load each JSON object from a line in the input file\n",
    "        data = json.loads(line)\n",
    "\n",
    "        # Filter the data to retain only the specified columns and remove null values\n",
    "        filtered_data = {column: data.get(column) for column in columns_to_keep if data.get(column) is not None}\n",
    "\n",
    "        # Write the preprocessed data to the output file\n",
    "        json.dump(filtered_data, outfile)\n",
    "        outfile.write('\\n')  # Add a newline after each JSON object"
   ]
  },
  {
   "cell_type": "code",
   "execution_count": 33,
   "id": "55d6e45d-a1e4-4232-b14e-09b893c6232e",
   "metadata": {},
   "outputs": [
    {
     "name": "stdout",
     "output_type": "stream",
     "text": [
      "Columns: ['asin', 'also_buy', 'also_view', 'title']\n"
     ]
    }
   ],
   "source": [
    "columns = list(filtered_data.keys())\n",
    "print(\"Columns:\", columns)"
   ]
  },
  {
   "cell_type": "code",
   "execution_count": 10,
   "id": "929126d1-6508-463a-8e13-80c42fca5c47",
   "metadata": {},
   "outputs": [],
   "source": []
  }
 ],
 "metadata": {
  "kernelspec": {
   "display_name": "Python 3 (ipykernel)",
   "language": "python",
   "name": "python3"
  },
  "language_info": {
   "codemirror_mode": {
    "name": "ipython",
    "version": 3
   },
   "file_extension": ".py",
   "mimetype": "text/x-python",
   "name": "python",
   "nbconvert_exporter": "python",
   "pygments_lexer": "ipython3",
   "version": "3.10.12"
  }
 },
 "nbformat": 4,
 "nbformat_minor": 5
}
